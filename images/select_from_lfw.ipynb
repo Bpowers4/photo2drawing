{
 "cells": [
  {
   "cell_type": "code",
   "execution_count": 15,
   "metadata": {},
   "outputs": [],
   "source": [
    "import os\n",
    "import sys\n",
    "import numpy as np\n",
    "import shutil"
   ]
  },
  {
   "cell_type": "code",
   "execution_count": 10,
   "metadata": {},
   "outputs": [],
   "source": [
    "LFW_PATH = '/home/hubert/Incoming/lfw/'\n",
    "\n",
    "image_files = []\n",
    "for dirpath, dirnames, filenames in os.walk(LFW_PATH):\n",
    "    image_files.extend([os.path.join(dirpath, filename) for filename in filenames if filename.endswith('.jpg')])"
   ]
  },
  {
   "cell_type": "code",
   "execution_count": 20,
   "metadata": {},
   "outputs": [],
   "source": [
    "num_to_select = 20\n",
    "OUT_DIR = './raw/'\n",
    "\n",
    "if not os.path.exists(OUT_DIR):\n",
    "    os.makedirs(OUT_DIR)\n",
    "\n",
    "selected_indices = np.random.choice(len(image_files), num_to_select, replace=False)\n",
    "selected_images = [image_files[index] for index in selected_indices]\n",
    "for image in selected_images:\n",
    "    _, filename = os.path.split(image)\n",
    "    shutil.copyfile(image, os.path.join(OUT_DIR, filename))"
   ]
  }
 ],
 "metadata": {
  "kernelspec": {
   "display_name": "Python 3",
   "language": "python",
   "name": "python3"
  },
  "language_info": {
   "codemirror_mode": {
    "name": "ipython",
    "version": 3
   },
   "file_extension": ".py",
   "mimetype": "text/x-python",
   "name": "python",
   "nbconvert_exporter": "python",
   "pygments_lexer": "ipython3",
   "version": "3.7.2"
  }
 },
 "nbformat": 4,
 "nbformat_minor": 2
}
